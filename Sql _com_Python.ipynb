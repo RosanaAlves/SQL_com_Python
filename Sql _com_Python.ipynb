{
 "cells": [
  {
   "cell_type": "markdown",
   "metadata": {},
   "source": [
    "## Arquitetura para rodar SQL no Python"
   ]
  },
  {
   "cell_type": "code",
   "execution_count": 6,
   "metadata": {},
   "outputs": [],
   "source": [
    "#%pip install pysqlite3\n",
    "import sqlite3"
   ]
  },
  {
   "cell_type": "markdown",
   "metadata": {},
   "source": [
    "### Criando um banco de dados"
   ]
  },
  {
   "cell_type": "code",
   "execution_count": 7,
   "metadata": {},
   "outputs": [],
   "source": [
    "conexao = sqlite3.connect('Banco_de_dados')"
   ]
  },
  {
   "cell_type": "markdown",
   "metadata": {},
   "source": [
    "### Apontar para o banco de dados"
   ]
  },
  {
   "cell_type": "code",
   "execution_count": 8,
   "metadata": {},
   "outputs": [],
   "source": [
    "cursor =  conexao.cursor()"
   ]
  },
  {
   "cell_type": "markdown",
   "metadata": {},
   "source": [
    "## Criando uma tabela"
   ]
  },
  {
   "cell_type": "code",
   "execution_count": null,
   "metadata": {},
   "outputs": [],
   "source": [
    "cursor.execute(\n",
    "    'CREATE TABLE dados_cliente (Data text, Nome text, idade real)'\n",
    ")\n",
    "\n",
    "conexao.commit() # Usar apenas quando for criar uma tabela"
   ]
  },
  {
   "cell_type": "markdown",
   "metadata": {},
   "source": [
    "### Inserindo valores nas tabelas"
   ]
  },
  {
   "cell_type": "code",
   "execution_count": 11,
   "metadata": {},
   "outputs": [
    {
     "data": {
      "text/plain": [
       "<sqlite3.Cursor at 0x7f3493a35ea0>"
      ]
     },
     "execution_count": 11,
     "metadata": {},
     "output_type": "execute_result"
    }
   ],
   "source": [
    "cursor.execute('INSERT INTO dados_cliente VALUES (\"07/05/2022\", \"Rosana\", \"27\")')"
   ]
  },
  {
   "cell_type": "code",
   "execution_count": 12,
   "metadata": {},
   "outputs": [
    {
     "data": {
      "text/plain": [
       "<sqlite3.Cursor at 0x7f3493a35ea0>"
      ]
     },
     "execution_count": 12,
     "metadata": {},
     "output_type": "execute_result"
    }
   ],
   "source": [
    "cursor.execute('INSERT INTO dados_cliente VALUES (\"07/05/2022\", \"Raphael\", \"37\")')"
   ]
  },
  {
   "cell_type": "code",
   "execution_count": 21,
   "metadata": {},
   "outputs": [],
   "source": [
    "import random #Gerando números aleatórios"
   ]
  },
  {
   "cell_type": "code",
   "execution_count": 20,
   "metadata": {},
   "outputs": [],
   "source": [
    "for i in range(10):\n",
    "    numero = random.randint(10,20)\n",
    "    cursor.execute(f'INSERT INTO dados_cliente VALUES (\"07/05/2022\", \"Raphael\", {numero})')\n",
    "    \n",
    "    "
   ]
  },
  {
   "cell_type": "markdown",
   "metadata": {},
   "source": [
    "### Selecionando tabelas"
   ]
  },
  {
   "cell_type": "code",
   "execution_count": 30,
   "metadata": {},
   "outputs": [
    {
     "name": "stdout",
     "output_type": "stream",
     "text": [
      "[('07/05/2022', 'Rosana', 27.0), ('07/05/2022', 'Raphael', 37.0), ('07/05/2022', 'Raphael', 20.0), ('07/05/2022', 'Raphael', 13.0), ('07/05/2022', 'Raphael', 18.0), ('07/05/2022', 'Raphael', 20.0), ('07/05/2022', 'Raphael', 14.0), ('07/05/2022', 'Raphael', 19.0), ('07/05/2022', 'Raphael', 17.0), ('07/05/2022', 'Raphael', 17.0), ('07/05/2022', 'Raphael', 13.0), ('07/05/2022', 'Raphael', 16.0)]\n"
     ]
    }
   ],
   "source": [
    "# Query consulta\n",
    "consulta = cursor.execute('SELECT * FROM dados_cliente').fetchall() # * seleciona todas as colunas\n",
    "print(consulta)"
   ]
  },
  {
   "cell_type": "code",
   "execution_count": 31,
   "metadata": {},
   "outputs": [
    {
     "name": "stdout",
     "output_type": "stream",
     "text": [
      "('Rosana', 27.0)\n",
      "('Raphael', 37.0)\n",
      "('Raphael', 20.0)\n",
      "('Raphael', 13.0)\n",
      "('Raphael', 18.0)\n",
      "('Raphael', 20.0)\n",
      "('Raphael', 14.0)\n",
      "('Raphael', 19.0)\n",
      "('Raphael', 17.0)\n",
      "('Raphael', 17.0)\n",
      "('Raphael', 13.0)\n",
      "('Raphael', 16.0)\n"
     ]
    }
   ],
   "source": [
    "# Query consulta - Coluna\n",
    "consulta = cursor.execute('SELECT Nome, idade FROM dados_cliente').fetchall()\n",
    "for linha in consulta:\n",
    "    print(linha)"
   ]
  },
  {
   "cell_type": "markdown",
   "metadata": {},
   "source": [
    "### Where"
   ]
  },
  {
   "cell_type": "code",
   "execution_count": 33,
   "metadata": {},
   "outputs": [
    {
     "name": "stdout",
     "output_type": "stream",
     "text": [
      "('07/05/2022', 'Rosana', 27.0)\n"
     ]
    }
   ],
   "source": [
    "# Query consulta - where '='\n",
    "consulta = cursor.execute(\n",
    "    '''\n",
    "    SELECT * FROM dados_cliente\n",
    "    where Nome = \"Rosana\"\n",
    "    '''\n",
    "\n",
    ").fetchall()\n",
    "for linha in consulta:\n",
    "    print(linha)"
   ]
  },
  {
   "cell_type": "code",
   "execution_count": 34,
   "metadata": {},
   "outputs": [
    {
     "name": "stdout",
     "output_type": "stream",
     "text": [
      "('07/05/2022', 'Rosana', 27.0)\n",
      "('07/05/2022', 'Raphael', 37.0)\n"
     ]
    }
   ],
   "source": [
    "# Query consulta - where '>'\n",
    "consulta = cursor.execute(\n",
    "    '''\n",
    "    SELECT * FROM dados_cliente\n",
    "    where idade >25\n",
    "    '''\n",
    "\n",
    ").fetchall()\n",
    "for linha in consulta:\n",
    "    print(linha)"
   ]
  },
  {
   "cell_type": "code",
   "execution_count": 35,
   "metadata": {},
   "outputs": [
    {
     "name": "stdout",
     "output_type": "stream",
     "text": [
      "('07/05/2022', 'Raphael', 13.0)\n",
      "('07/05/2022', 'Raphael', 14.0)\n",
      "('07/05/2022', 'Raphael', 13.0)\n"
     ]
    }
   ],
   "source": [
    "# Query consulta - where '<='\n",
    "consulta = cursor.execute(\n",
    "    '''\n",
    "    SELECT * FROM dados_cliente\n",
    "    where idade <= 15\n",
    "    '''\n",
    "\n",
    ").fetchall()\n",
    "for linha in consulta:\n",
    "    print(linha)"
   ]
  },
  {
   "cell_type": "code",
   "execution_count": 36,
   "metadata": {},
   "outputs": [
    {
     "name": "stdout",
     "output_type": "stream",
     "text": [
      "('07/05/2022', 'Raphael', 37.0)\n",
      "('07/05/2022', 'Raphael', 20.0)\n",
      "('07/05/2022', 'Raphael', 13.0)\n",
      "('07/05/2022', 'Raphael', 18.0)\n",
      "('07/05/2022', 'Raphael', 20.0)\n",
      "('07/05/2022', 'Raphael', 14.0)\n",
      "('07/05/2022', 'Raphael', 19.0)\n",
      "('07/05/2022', 'Raphael', 17.0)\n",
      "('07/05/2022', 'Raphael', 17.0)\n",
      "('07/05/2022', 'Raphael', 13.0)\n",
      "('07/05/2022', 'Raphael', 16.0)\n"
     ]
    }
   ],
   "source": [
    "# Query consulta - where '<>' Diferente\n",
    "consulta = cursor.execute(\n",
    "    '''\n",
    "    SELECT * FROM dados_cliente\n",
    "    where Nome <> \"Rosana\"\n",
    "    '''\n",
    "\n",
    ").fetchall()\n",
    "for linha in consulta:\n",
    "    print(linha)"
   ]
  },
  {
   "cell_type": "markdown",
   "metadata": {},
   "source": [
    "### Between"
   ]
  },
  {
   "cell_type": "code",
   "execution_count": 38,
   "metadata": {},
   "outputs": [
    {
     "name": "stdout",
     "output_type": "stream",
     "text": [
      "('07/05/2022', 'Raphael', 20.0)\n",
      "('07/05/2022', 'Raphael', 13.0)\n",
      "('07/05/2022', 'Raphael', 18.0)\n",
      "('07/05/2022', 'Raphael', 20.0)\n",
      "('07/05/2022', 'Raphael', 14.0)\n",
      "('07/05/2022', 'Raphael', 19.0)\n",
      "('07/05/2022', 'Raphael', 17.0)\n",
      "('07/05/2022', 'Raphael', 17.0)\n",
      "('07/05/2022', 'Raphael', 13.0)\n",
      "('07/05/2022', 'Raphael', 16.0)\n"
     ]
    }
   ],
   "source": [
    "# Query consulta - BETWEEN (Range)\n",
    "consulta = cursor.execute(\n",
    "    '''\n",
    "    SELECT * FROM dados_cliente\n",
    "    where idade BETWEEN 10 AND 20\n",
    "    '''\n",
    "\n",
    ").fetchall()\n",
    "for linha in consulta:\n",
    "    print(linha)"
   ]
  },
  {
   "cell_type": "markdown",
   "metadata": {},
   "source": [
    "### Like"
   ]
  },
  {
   "cell_type": "code",
   "execution_count": null,
   "metadata": {},
   "outputs": [],
   "source": []
  }
 ],
 "metadata": {
  "interpreter": {
   "hash": "916dbcbb3f70747c44a77c7bcd40155683ae19c65e1c03b4aa3499c5328201f1"
  },
  "kernelspec": {
   "display_name": "Python 3.7.3 64-bit",
   "language": "python",
   "name": "python3"
  },
  "language_info": {
   "codemirror_mode": {
    "name": "ipython",
    "version": 3
   },
   "file_extension": ".py",
   "mimetype": "text/x-python",
   "name": "python",
   "nbconvert_exporter": "python",
   "pygments_lexer": "ipython3",
   "version": "3.7.3"
  },
  "orig_nbformat": 4
 },
 "nbformat": 4,
 "nbformat_minor": 2
}
